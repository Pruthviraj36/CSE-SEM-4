{
 "cells": [
  {
   "cell_type": "markdown",
   "metadata": {},
   "source": [
    "<a href='https://www.darshan.ac.in/'> <img src='https://www.darshan.ac.in/Content/media/DU_Logo.svg' width=\"250\" height=\"300\"/></a>\n",
    "<pre>\n",
    "<center><b><h1>Python Programming - 2301CS404</b></center>\n",
    "<center><b><h1>Lab - 13</b></center>    \n",
    "<pre>"
   ]
  },
  {
   "cell_type": "markdown",
   "metadata": {},
   "source": [
    "<h1>Name: Chauhan Pruthviraj, Enrollment: 23010101046</h1>"
   ]
  },
  {
   "cell_type": "markdown",
   "metadata": {},
   "source": [
    "# OOP"
   ]
  },
  {
   "cell_type": "markdown",
   "metadata": {},
   "source": [
    "### 01) Write a Program to create a class by name Students, and initialize attributes like name, age, and grade while creating an object."
   ]
  },
  {
   "cell_type": "code",
   "execution_count": 2,
   "metadata": {},
   "outputs": [
    {
     "name": "stdout",
     "output_type": "stream",
     "text": [
      "Viraj, 17, B\n"
     ]
    }
   ],
   "source": [
    "class Students:\n",
    "    name = \"\"\n",
    "    age = 18\n",
    "    grade = \"\"\n",
    "    \n",
    "    def __init__(self, name, age, grade):\n",
    "        self.name = name\n",
    "        self.age = age\n",
    "        self.grade = grade\n",
    "\n",
    "    def display(self):\n",
    "        print(f\"{self.name}, {self.age}, {self.grade}\")\n",
    "        \n",
    "stu1 = Students(\"Viraj\", 17, \"B\")\n",
    "\n",
    "stu1.display()"
   ]
  },
  {
   "cell_type": "markdown",
   "metadata": {},
   "source": [
    "### 02) Create a class named Bank_Account with Account_No, User_Name, Email,Account_Type and Account_Balance data members. Also create a method GetAccountDetails() and DisplayAccountDetails(). Create main method to demonstrate the Bank_Account class."
   ]
  },
  {
   "cell_type": "code",
   "execution_count": 6,
   "metadata": {},
   "outputs": [
    {
     "name": "stdout",
     "output_type": "stream",
     "text": [
      "Enter Account Number: 23010101178\n",
      "Enter User Name: Viraj\n",
      "Enter Email: 23010101178\n",
      "Enter Account Type (Saving/Checking): Saving\n",
      "Enter Account Balance: 100000\n",
      "\n",
      "Account Details:\n",
      "Account Number: 23010101178\n",
      "User Name: Viraj\n",
      "Email: 23010101178\n",
      "Account Type: Saving\n",
      "Account Balance: ₹100000.00\n"
     ]
    }
   ],
   "source": [
    "class Bank_Account:\n",
    "    def __init__(self, account_no, user_name, email, account_type, account_balance):\n",
    "        self.Account_No = account_no\n",
    "        self.User_Name = user_name\n",
    "        self.Email = email\n",
    "        self.Account_Type = account_type\n",
    "        self.Account_Balance = account_balance\n",
    "    \n",
    "    def GetAccountDetails(self):\n",
    "        self.Account_No = input(\"Enter Account Number: \")\n",
    "        self.User_Name = input(\"Enter User Name: \")\n",
    "        self.Email = input(\"Enter Email: \")\n",
    "        self.Account_Type = input(\"Enter Account Type (Saving/Checking): \")\n",
    "        self.Account_Balance = float(input(\"Enter Account Balance: \"))\n",
    "\n",
    "    def DisplayAccountDetails(self):\n",
    "        print(\"\\nAccount Details:\")\n",
    "        print(f\"Account Number: {self.Account_No}\")\n",
    "        print(f\"User Name: {self.User_Name}\")\n",
    "        print(f\"Email: {self.Email}\")\n",
    "        print(f\"Account Type: {self.Account_Type}\")\n",
    "        print(f\"Account Balance: ₹{self.Account_Balance:.2f}\")\n",
    "\n",
    "def main():\n",
    "    bank_account = Bank_Account(\"\", \"\", \"\", \"\", 0.0)\n",
    "    \n",
    "    bank_account.GetAccountDetails()\n",
    "    \n",
    "    bank_account.DisplayAccountDetails()\n",
    "\n",
    "if __name__ == \"__main__\":\n",
    "    main()"
   ]
  },
  {
   "cell_type": "markdown",
   "metadata": {},
   "source": [
    "### 03) WAP to create Circle class with area and perimeter function to find area and perimeter of circle."
   ]
  },
  {
   "cell_type": "code",
   "execution_count": 7,
   "metadata": {},
   "outputs": [
    {
     "name": "stdout",
     "output_type": "stream",
     "text": [
      "Enter the radius of the circle: 10\n",
      "Area: 314.16\n",
      "Perimeter: 62.83\n"
     ]
    }
   ],
   "source": [
    "import math\n",
    "\n",
    "class Circle:\n",
    "    def __init__(self, radius):\n",
    "        self.radius = radius\n",
    "    \n",
    "    def area(self):\n",
    "        return math.pi * (self.radius ** 2)\n",
    "    \n",
    "    def perimeter(self):\n",
    "        return 2 * math.pi * self.radius\n",
    "\n",
    "radius = float(input(\"Enter the radius of the circle: \"))\n",
    "circle = Circle(radius)\n",
    "print(\"Area:\", round(circle.area(), 2))\n",
    "print(\"Perimeter:\", round(circle.perimeter(), 2))"
   ]
  },
  {
   "cell_type": "markdown",
   "metadata": {},
   "source": [
    "### 04) Create a class for employees that includes attributes such as name, age, salary, and methods to update and display employee information."
   ]
  },
  {
   "cell_type": "code",
   "execution_count": 9,
   "metadata": {},
   "outputs": [
    {
     "name": "stdout",
     "output_type": "stream",
     "text": [
      "Name: Viraj\n",
      "Age: 17\n",
      "Salary: 50000\n",
      "\n",
      "\n",
      "Name: Viraj\n",
      "Age: 17\n",
      "Salary: 55000\n"
     ]
    }
   ],
   "source": [
    "class Employee:\n",
    "    def __init__(self, name, age, salary):\n",
    "        self.name = name\n",
    "        self.age = age\n",
    "        self.salary = salary\n",
    "    \n",
    "    def update_info(self, name=None, age=None, salary=None):\n",
    "        if name:\n",
    "            self.name = name\n",
    "        if age:\n",
    "            self.age = age\n",
    "        if salary:\n",
    "            self.salary = salary\n",
    "    \n",
    "    def display_info(self):\n",
    "        print(f\"Name: {self.name}\")\n",
    "        print(f\"Age: {self.age}\")\n",
    "        print(f\"Salary: {self.salary}\")\n",
    "        \n",
    "emp = Employee(\"Viraj\", 17, 50000)\n",
    "emp.display_info()\n",
    "print(\"\\n\")\n",
    "emp.update_info(salary=55000)\n",
    "emp.display_info()"
   ]
  },
  {
   "cell_type": "markdown",
   "metadata": {},
   "source": [
    "### 05) Create a bank account class with methods to deposit, withdraw, and check balance."
   ]
  },
  {
   "cell_type": "code",
   "execution_count": 10,
   "metadata": {},
   "outputs": [
    {
     "name": "stdout",
     "output_type": "stream",
     "text": [
      "Deposited: ₹500\n",
      "Withdrew: ₹200\n",
      "Balance: ₹300\n"
     ]
    }
   ],
   "source": [
    "class BankAccount:\n",
    "    def __init__(self, balance=0):\n",
    "        self.balance = balance\n",
    "    \n",
    "    def deposit(self, amount):\n",
    "        self.balance += amount\n",
    "        print(f\"Deposited: ₹{amount}\")\n",
    "    \n",
    "    def withdraw(self, amount):\n",
    "        if amount > self.balance:\n",
    "            print(\"Insufficient funds!\")\n",
    "        else:\n",
    "            self.balance -= amount\n",
    "            print(f\"Withdrew: ₹{amount}\")\n",
    "    \n",
    "    def check_balance(self):\n",
    "        print(f\"Balance: ₹{self.balance}\")\n",
    "        \n",
    "account = BankAccount()\n",
    "account.deposit(500)\n",
    "account.withdraw(200)\n",
    "account.check_balance()"
   ]
  },
  {
   "cell_type": "markdown",
   "metadata": {},
   "source": [
    "### 06) Create a class for managing inventory that includes attributes such as item name, price, quantity, and methods to add, remove, and update items."
   ]
  },
  {
   "cell_type": "code",
   "execution_count": 13,
   "metadata": {},
   "outputs": [
    {
     "name": "stdout",
     "output_type": "stream",
     "text": [
      "Laptop: ₹1200, Quantity: 10\n"
     ]
    }
   ],
   "source": [
    "class Inventory:\n",
    "    def __init__(self):\n",
    "        self.items = {}\n",
    "    \n",
    "    def add_item(self, name, price, quantity):\n",
    "        self.items[name] = {'price': price, 'quantity': quantity}\n",
    "    \n",
    "    def remove_item(self, name):\n",
    "        if name in self.items:\n",
    "            del self.items[name]\n",
    "    \n",
    "    def update_item(self, name, price=None, quantity=None):\n",
    "        if name in self.items:\n",
    "            if price: self.items[name]['price'] = price\n",
    "            if quantity: self.items[name]['quantity'] = quantity\n",
    "    \n",
    "    def display_items(self):\n",
    "        for name, details in self.items.items():\n",
    "            print(f\"{name}: ₹{details['price']}, Quantity: {details['quantity']}\")\n",
    "        \n",
    "inventory = Inventory()\n",
    "inventory.add_item(\"Laptop\", 1200, 5)\n",
    "inventory.update_item(\"Laptop\", quantity=10)\n",
    "inventory.display_items()\n",
    "inventory.remove_item(\"Laptop\")"
   ]
  },
  {
   "cell_type": "markdown",
   "metadata": {},
   "source": [
    "### 07) Create a Class with instance attributes of your choice."
   ]
  },
  {
   "cell_type": "code",
   "execution_count": 14,
   "metadata": {},
   "outputs": [
    {
     "name": "stdout",
     "output_type": "stream",
     "text": [
      "Name: Meet, Age: 28\n"
     ]
    }
   ],
   "source": [
    "class Person:\n",
    "    def __init__(self, name, age):\n",
    "        self.name = name\n",
    "        self.age = age\n",
    "    \n",
    "    def display_info(self):\n",
    "        print(f\"Name: {self.name}, Age: {self.age}\")\n",
    "        \n",
    "person = Person(\"Meet\", 28)\n",
    "person.display_info()"
   ]
  },
  {
   "cell_type": "markdown",
   "metadata": {},
   "source": [
    "### 08) Create one class student_kit\n",
    "#### Within the student_kit class create one class attribute principal name ( Mr ABC )\n",
    "#### Create one attendance method and take input as number of days.\n",
    "#### While creating student take input their name .\n",
    "#### Create one certificate for each student by taking input of number of days present in class."
   ]
  },
  {
   "cell_type": "code",
   "execution_count": 17,
   "metadata": {},
   "outputs": [
    {
     "name": "stdout",
     "output_type": "stream",
     "text": [
      "Certificate for Viraj: 90 days present in class. \n",
      "Signed by: toon mausi\n"
     ]
    }
   ],
   "source": [
    "class StudentKit:\n",
    "    principal_name = \"toon mausi\"\n",
    "    \n",
    "    def __init__(self, student_name):\n",
    "        self.student_name = student_name\n",
    "    \n",
    "    def attendance(self, days_present):\n",
    "        self.days_present = days_present\n",
    "    \n",
    "    def certificate(self):\n",
    "        print(f\"Certificate for {self.student_name}: {self.days_present} days present in class. \\nSigned by: {self.principal_name}\")\n",
    "        \n",
    "student = StudentKit(\"Viraj\")\n",
    "student.attendance(90)\n",
    "student.certificate()"
   ]
  },
  {
   "cell_type": "markdown",
   "metadata": {},
   "source": [
    "### 09) Define Time class with hour and minute as data member. Also define addition method to add two time objects."
   ]
  },
  {
   "cell_type": "code",
   "execution_count": 18,
   "metadata": {},
   "outputs": [
    {
     "name": "stdout",
     "output_type": "stream",
     "text": [
      "4 hours and 15 minutes\n"
     ]
    }
   ],
   "source": [
    "class Time:\n",
    "    def __init__(self, hour, minute):\n",
    "        self.hour = hour\n",
    "        self.minute = minute\n",
    "    \n",
    "    def add(self, other):\n",
    "        total_minutes = (self.hour + other.hour) * 60 + (self.minute + other.minute)\n",
    "        result_hour = total_minutes // 60\n",
    "        result_minute = total_minutes % 60\n",
    "        return Time(result_hour, result_minute)\n",
    "    \n",
    "    def display(self):\n",
    "        print(f\"{self.hour} hours and {self.minute} minutes\")\n",
    "        \n",
    "time1 = Time(2, 45)\n",
    "time2 = Time(1, 30)\n",
    "result_time = time1.add(time2)\n",
    "result_time.display()"
   ]
  }
 ],
 "metadata": {
  "kernelspec": {
   "display_name": "Python 3 (ipykernel)",
   "language": "python",
   "name": "python3"
  },
  "language_info": {
   "codemirror_mode": {
    "name": "ipython",
    "version": 3
   },
   "file_extension": ".py",
   "mimetype": "text/x-python",
   "name": "python",
   "nbconvert_exporter": "python",
   "pygments_lexer": "ipython3",
   "version": "3.10.9"
  }
 },
 "nbformat": 4,
 "nbformat_minor": 4
}
