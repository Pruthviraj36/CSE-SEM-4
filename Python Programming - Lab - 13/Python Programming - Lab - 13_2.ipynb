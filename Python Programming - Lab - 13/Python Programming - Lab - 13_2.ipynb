{
 "cells": [
  {
   "cell_type": "markdown",
   "metadata": {},
   "source": [
    "<a href='https://www.darshan.ac.in/'> <img src='https://www.darshan.ac.in/Content/media/DU_Logo.svg' width=\"250\" height=\"300\"/></a>\n",
    "<pre>\n",
    "<center><b><h1>Python Programming - 2301CS404</b></center>\n",
    "<center><b><h1>Lab - 13</b></center>    \n",
    "<pre>"
   ]
  },
  {
   "cell_type": "markdown",
   "metadata": {},
   "source": [
    "# Name: Chauhan Pruthviraj, Enrollment: 23010101046"
   ]
  },
  {
   "cell_type": "markdown",
   "metadata": {},
   "source": [
    "## Continued.."
   ]
  },
  {
   "cell_type": "markdown",
   "metadata": {},
   "source": [
    "### 10) Calculate area of a ractangle using object as an argument to a method."
   ]
  },
  {
   "cell_type": "code",
   "execution_count": 8,
   "metadata": {
    "collapsed": true
   },
   "outputs": [
    {
     "name": "stdout",
     "output_type": "stream",
     "text": [
      "Area of the rectangle: 15.0\n"
     ]
    }
   ],
   "source": [
    "class Rectangle:\n",
    "    def __init__(self, length, width):\n",
    "        self.length = length\n",
    "        self.width = width\n",
    "\n",
    "    @staticmethod\n",
    "    def area(rect):\n",
    "        return rect.length * rect.width\n",
    "\n",
    "my_rectangle = Rectangle(5.0, 3.0)\n",
    "\n",
    "area = Rectangle.area(my_rectangle)\n",
    "print(f\"Area of the rectangle: {area}\")"
   ]
  },
  {
   "cell_type": "markdown",
   "metadata": {},
   "source": [
    "### 11) Calculate the area of a square. \n",
    "### Include a Constructor, a method to calculate area named area() and a method named output() that prints the output and is invoked by area()."
   ]
  },
  {
   "cell_type": "code",
   "execution_count": 7,
   "metadata": {
    "collapsed": true
   },
   "outputs": [
    {
     "name": "stdout",
     "output_type": "stream",
     "text": [
      "Area of the square: 100\n"
     ]
    }
   ],
   "source": [
    "class Square:\n",
    "    def __init__(self, length):\n",
    "        self.length = length\n",
    "        \n",
    "    def area(self):\n",
    "        return self.length ** 2\n",
    "    \n",
    "    def output(self):\n",
    "        print(f\"Area of the square: {self.area()}\")\n",
    "\n",
    "sq1 = Square(10)\n",
    "sq1.output()"
   ]
  },
  {
   "cell_type": "markdown",
   "metadata": {},
   "source": [
    "### 12) Calculate the area of a rectangle. \n",
    "### Include a Constructor, a method to calculate area named area() and a method named output() that prints the output and is invoked by area().\n",
    "### Also define a class method that compares the two sides of reactangle. An object is instantiated only if the two sides are different; otherwise a message should be displayed : THIS IS SQUARE."
   ]
  },
  {
   "cell_type": "code",
   "execution_count": 15,
   "metadata": {
    "collapsed": true
   },
   "outputs": [
    {
     "name": "stdout",
     "output_type": "stream",
     "text": [
      "THIS IS A SQUARE\n",
      "Area cannot be calculated because it's a square.\n",
      "THIS IS A SQUARE\n"
     ]
    },
    {
     "data": {
      "text/plain": [
       "False"
      ]
     },
     "execution_count": 15,
     "metadata": {},
     "output_type": "execute_result"
    }
   ],
   "source": [
    "class Rectangle:\n",
    "    def __init__(self, length, width):\n",
    "        if length == width:\n",
    "            print(\"THIS IS A SQUARE\")\n",
    "            self.length = None\n",
    "            self.width = None\n",
    "        else:\n",
    "            self.length = length\n",
    "            self.width = width\n",
    "\n",
    "    def area(self):\n",
    "        if self.length is not None and self.width is not None:\n",
    "            area = self.length * self.width\n",
    "            self.output(area)\n",
    "        else:\n",
    "            print(\"Area cannot be calculated because it's a square.\")\n",
    "\n",
    "    def output(self, area):\n",
    "        print(f\"Area of the rectangle: {area}\")\n",
    "\n",
    "    @classmethod\n",
    "    def compare_sides(cls, length, width):\n",
    "        if length == width:\n",
    "            print(\"THIS IS A SQUARE\")\n",
    "            return False\n",
    "        else:\n",
    "            print(\"THIS IS A RECTANGLE\")\n",
    "            return True\n",
    "\n",
    "\n",
    "rect1 = Rectangle(10, 10)\n",
    "rect1.area()\n",
    "rect1.compare_sides(10, 10)"
   ]
  },
  {
   "cell_type": "markdown",
   "metadata": {},
   "source": [
    "### 13) Define a class Square having a private attribute \"side\". \n",
    "### Implement get_side and set_side methods to accees the private attribute from outside of the class."
   ]
  },
  {
   "cell_type": "code",
   "execution_count": 18,
   "metadata": {
    "collapsed": true
   },
   "outputs": [
    {
     "name": "stdout",
     "output_type": "stream",
     "text": [
      "Side of the square: 4\n",
      "Area of the square: 16\n",
      "Updated side of the square: 6\n",
      "Updated area of the square: 36\n"
     ]
    }
   ],
   "source": [
    "class Square:\n",
    "    def __init__(self, side):\n",
    "        self.__side = side\n",
    "    \n",
    "    def get_side(self):\n",
    "        return self.__side\n",
    "    \n",
    "    def set_side(self, side):\n",
    "        if side > 0:\n",
    "            self.__side = side\n",
    "        else:\n",
    "            print(\"Side length must be a positive value.\")\n",
    "    \n",
    "    def area(self):\n",
    "        return self.__side ** 2\n",
    "\n",
    "sq1 = Square(4)\n",
    "print(\"Side of the square:\", sq1.get_side())\n",
    "print(\"Area of the square:\", sq1.area())\n",
    "sq1.set_side(6)\n",
    "print(\"Updated side of the square:\", sq1.get_side())\n",
    "print(\"Updated area of the square:\", sq1.area())"
   ]
  },
  {
   "cell_type": "markdown",
   "metadata": {},
   "source": [
    "### 14) Create a class Profit that has a method named getProfit that accepts profit from the user.\n",
    "### Create a class Loss that has a method named getLoss that accepts loss from the user.\n",
    "### Create a class BalanceSheet that inherits from both classes Profit and Loss and calculates the balanace. It has two methods getBalance() and printBalance()."
   ]
  },
  {
   "cell_type": "code",
   "execution_count": 19,
   "metadata": {
    "collapsed": true
   },
   "outputs": [
    {
     "name": "stdout",
     "output_type": "stream",
     "text": [
      "Enter Profit: 50000\n",
      "Enter Loss: 400.\n",
      "balance: 49600.0\n"
     ]
    }
   ],
   "source": [
    "class Profit:\n",
    "    def __init__(self):\n",
    "        self.profit = 0\n",
    "        \n",
    "    def getProfit(self):\n",
    "        self.profit = float(input(\"Enter Profit: \"))\n",
    "        \n",
    "class Loss:\n",
    "    def __init__(self):\n",
    "        self.loss = 0\n",
    "        \n",
    "    def getLoss(self):\n",
    "        self.loss = float(input(\"Enter Loss: \"))\n",
    "        \n",
    "class BalanceSheet(Profit, Loss):\n",
    "    def __init__(self):\n",
    "        Profit.__init__(self)\n",
    "        Loss.__init__(self)\n",
    "        self.balance = 0\n",
    "        \n",
    "    def getBalance(self):\n",
    "        self.balance = self.profit - self.loss\n",
    "        \n",
    "    def printBalance(self):\n",
    "        print(f\"balance: {self.balance}\")\n",
    "        \n",
    "bs = BalanceSheet()\n",
    "bs.getProfit()\n",
    "bs.getLoss()\n",
    "bs.getBalance()\n",
    "bs.printBalance()"
   ]
  },
  {
   "cell_type": "markdown",
   "metadata": {},
   "source": [
    "### 15) WAP to demonstrate all types of inheritance."
   ]
  },
  {
   "cell_type": "code",
   "execution_count": 20,
   "metadata": {
    "collapsed": true
   },
   "outputs": [
    {
     "name": "stdout",
     "output_type": "stream",
     "text": [
      "Animal speaks\n",
      "Dog barks\n",
      "Animal speaks\n",
      "Mammal walks\n",
      "Dog barks and walks\n",
      "Father's skills: Programming, Teaching\n",
      "Mother's hobbies: Painting, Gardening\n",
      "Child's personality: Creative, Curious\n",
      "Vehicle started\n",
      "Car is driving\n",
      "Vehicle started\n",
      "Bike is riding\n",
      "Drawing shape\n",
      "Area of Rectangle: 20\n",
      "Side length of Square: 3\n",
      "Volume of Cube: 27\n"
     ]
    }
   ],
   "source": [
    "# Single Inheritance\n",
    "class Animal:\n",
    "    def speak(self):\n",
    "        print(\"Animal speaks\")\n",
    "\n",
    "class Dog(Animal):\n",
    "    def bark(self):\n",
    "        print(\"Dog barks\")\n",
    "\n",
    "# Multilevel Inheritance\n",
    "class Mammal(Animal):\n",
    "    def walk(self):\n",
    "        print(\"Mammal walks\")\n",
    "\n",
    "class DogMammal(Mammal):\n",
    "    def bark_and_walk(self):\n",
    "        print(\"Dog barks and walks\")\n",
    "\n",
    "# Multiple Inheritance\n",
    "class Father:\n",
    "    def skills(self):\n",
    "        print(\"Father's skills: Programming, Teaching\")\n",
    "\n",
    "class Mother:\n",
    "    def hobbies(self):\n",
    "        print(\"Mother's hobbies: Painting, Gardening\")\n",
    "\n",
    "class Child(Father, Mother):\n",
    "    def personality(self):\n",
    "        print(\"Child's personality: Creative, Curious\")\n",
    "\n",
    "# Hierarchical Inheritance\n",
    "class Vehicle:\n",
    "    def start(self):\n",
    "        print(\"Vehicle started\")\n",
    "\n",
    "class Car(Vehicle):\n",
    "    def drive(self):\n",
    "        print(\"Car is driving\")\n",
    "\n",
    "class Bike(Vehicle):\n",
    "    def ride(self):\n",
    "        print(\"Bike is riding\")\n",
    "\n",
    "# Hybrid Inheritance (Combination of Multiple and Multilevel Inheritance)\n",
    "class Shape:\n",
    "    def draw(self):\n",
    "        print(\"Drawing shape\")\n",
    "\n",
    "class Rectangle(Shape):\n",
    "    def area(self, length, width):\n",
    "        print(f\"Area of Rectangle: {length * width}\")\n",
    "\n",
    "class Square(Rectangle):\n",
    "    def side_length(self, side):\n",
    "        print(f\"Side length of Square: {side}\")\n",
    "\n",
    "class Cube(Square, Shape):\n",
    "    def volume(self, side):\n",
    "        print(f\"Volume of Cube: {side ** 3}\")\n",
    "\n",
    "# Demonstration of all types of inheritance\n",
    "\n",
    "# 1. Single Inheritance\n",
    "dog = Dog()\n",
    "dog.speak()  # Inherited method from Animal class\n",
    "dog.bark()   # Method from Dog class\n",
    "\n",
    "# 2. Multilevel Inheritance\n",
    "dog_mammal = DogMammal()\n",
    "dog_mammal.speak()  # Inherited method from Animal\n",
    "dog_mammal.walk()   # Inherited method from Mammal\n",
    "dog_mammal.bark_and_walk()  # Method from DogMammal class\n",
    "\n",
    "# 3. Multiple Inheritance\n",
    "child = Child()\n",
    "child.skills()  # Inherited from Father\n",
    "child.hobbies()  # Inherited from Mother\n",
    "child.personality()  # Method from Child\n",
    "\n",
    "# 4. Hierarchical Inheritance\n",
    "car = Car()\n",
    "car.start()  # Inherited from Vehicle\n",
    "car.drive()  # Method from Car\n",
    "\n",
    "bike = Bike()\n",
    "bike.start()  # Inherited from Vehicle\n",
    "bike.ride()  # Method from Bike\n",
    "\n",
    "# 5. Hybrid Inheritance\n",
    "cube = Cube()\n",
    "cube.draw()  # Inherited from Shape\n",
    "cube.area(5, 4)  # Inherited from Rectangle\n",
    "cube.side_length(3)  # Inherited from Square\n",
    "cube.volume(3)  # Method from Cube\n"
   ]
  },
  {
   "cell_type": "markdown",
   "metadata": {},
   "source": [
    "### 16) Create a Person class with a constructor that takes two arguments name and age. \n",
    "### Create a child class Employee that inherits from Person and adds a new attribute salary. \n",
    "### Override the __init__ method in Employee to call the parent class's __init__ method using the super() and then initialize the salary attribute."
   ]
  },
  {
   "cell_type": "code",
   "execution_count": 24,
   "metadata": {
    "collapsed": true
   },
   "outputs": [
    {
     "name": "stdout",
     "output_type": "stream",
     "text": [
      "Name: Viraj, Age: 17\n",
      "Bitcoin: 500000\n"
     ]
    }
   ],
   "source": [
    "class Person:\n",
    "    def __init__(self, name, age):\n",
    "        self.name = name\n",
    "        self.age = age\n",
    "    \n",
    "    def display(self):\n",
    "        print(f\"Name: {self.name}, Age: {self.age}\")\n",
    "\n",
    "class Employee(Person):\n",
    "    def __init__(self, name, age, salary):\n",
    "        super().__init__(name, age)\n",
    "        self.salary = salary\n",
    "        \n",
    "    def display(self):\n",
    "        super().display()\n",
    "        print(f\"Bitcoin: {self.salary}\")\n",
    "\n",
    "employee1 = Employee(\"Viraj\", 17, 500000)\n",
    "employee1.display()"
   ]
  },
  {
   "cell_type": "markdown",
   "metadata": {},
   "source": [
    "### 17) Create a Shape class with a draw method that is not implemented. \n",
    "### Create three child classes Rectangle, Circle, and Triangle that implement the draw method with their respective drawing behaviors. \n",
    "### Create a list of Shape objects that includes one instance of each child class, and then iterate through the list and call the draw method on each object."
   ]
  },
  {
   "cell_type": "code",
   "execution_count": 26,
   "metadata": {
    "collapsed": true
   },
   "outputs": [
    {
     "name": "stdout",
     "output_type": "stream",
     "text": [
      "Drawing a Rectangle\n",
      "Drawing a Circle\n",
      "Drawing a Triangle\n"
     ]
    }
   ],
   "source": [
    "class Shape(ABC):\n",
    "    @abstractmethod\n",
    "    def draw(self):\n",
    "        pass\n",
    "\n",
    "class Rectangle(Shape):\n",
    "    def draw(self):\n",
    "        print(\"Drawing a Rectangle\")\n",
    "\n",
    "class Circle(Shape):\n",
    "    def draw(self):\n",
    "        print(\"Drawing a Circle\")\n",
    "\n",
    "class Triangle(Shape):\n",
    "    def draw(self):\n",
    "        print(\"Drawing a Triangle\")\n",
    "\n",
    "shapes = [Rectangle(), Circle(), Triangle()]\n",
    "\n",
    "for shape in shapes:\n",
    "    shape.draw()"
   ]
  }
 ],
 "metadata": {
  "kernelspec": {
   "display_name": "Python 3 (ipykernel)",
   "language": "python",
   "name": "python3"
  },
  "language_info": {
   "codemirror_mode": {
    "name": "ipython",
    "version": 3
   },
   "file_extension": ".py",
   "mimetype": "text/x-python",
   "name": "python",
   "nbconvert_exporter": "python",
   "pygments_lexer": "ipython3",
   "version": "3.10.9"
  }
 },
 "nbformat": 4,
 "nbformat_minor": 4
}
