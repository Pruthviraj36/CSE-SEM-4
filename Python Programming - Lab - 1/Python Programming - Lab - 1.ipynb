{
 "cells": [
  {
   "cell_type": "markdown",
   "metadata": {},
   "source": [
    "<a href='https://www.darshan.ac.in/'> <img src='https://www.darshan.ac.in/Content/media/DU_Logo.svg' width=\"250\" height=\"10\"/></a>\n",
    "<pre>\n",
    "<center><b><h1>Python Programming - 2301CS404</b></center>\n",
    "<center><b><h1>Lab - 1</b></center>    \n",
    "<pre>"
   ]
  },
  {
   "cell_type": "markdown",
   "metadata": {},
   "source": [
    "### 01) WAP to print “Hello World”"
   ]
  },
  {
   "cell_type": "code",
   "execution_count": 1,
   "metadata": {},
   "outputs": [
    {
     "name": "stdout",
     "output_type": "stream",
     "text": [
      "Hello World\n"
     ]
    }
   ],
   "source": [
    "print(\"Hello World\")"
   ]
  },
  {
   "cell_type": "markdown",
   "metadata": {},
   "source": [
    "### 02) WAP to print addition of two numbers with and without using input()."
   ]
  },
  {
   "cell_type": "code",
   "execution_count": 5,
   "metadata": {},
   "outputs": [
    {
     "name": "stdout",
     "output_type": "stream",
     "text": [
      "The adittion of a and b is :  24\n"
     ]
    },
    {
     "name": "stdin",
     "output_type": "stream",
     "text": [
      "Enter the number :  1\n",
      "Enter the number :  2\n"
     ]
    },
    {
     "name": "stdout",
     "output_type": "stream",
     "text": [
      "The adittion of two number is :  3\n"
     ]
    }
   ],
   "source": [
    " # without using input()\n",
    "a, b= 4, 5\n",
    "\n",
    "c = a + b\n",
    "print(\"The adittion of a and b is : \", c)\n",
    "\n",
    "# with input()\n",
    "number1 = int(input(\"Enter the number : \"))\n",
    "number2 = int(input(\"Enter the number : \"))\n",
    "\n",
    "number3 = number1 + number2\n",
    "print(\"The adittion of two number is : \", number3)"
   ]
  },
  {
   "cell_type": "markdown",
   "metadata": {},
   "source": [
    "### 03) WAP to check the type of the variable."
   ]
  },
  {
   "cell_type": "code",
   "execution_count": 17,
   "metadata": {},
   "outputs": [
    {
     "name": "stdin",
     "output_type": "stream",
     "text": [
      "Enter something :  4\n"
     ]
    },
    {
     "name": "stdout",
     "output_type": "stream",
     "text": [
      "<class 'str'>\n"
     ]
    }
   ],
   "source": [
    "num = input(\"Enter something : \")\n",
    "\n",
    "print(type(num))"
   ]
  },
  {
   "cell_type": "markdown",
   "metadata": {},
   "source": [
    "### 04) WAP to calculate simple interest."
   ]
  },
  {
   "cell_type": "code",
   "execution_count": 19,
   "metadata": {},
   "outputs": [
    {
     "name": "stdin",
     "output_type": "stream",
     "text": [
      "Enter the Principal : 5000000\n",
      "Enter the Rate of intrest : 1000\n",
      "Enter the Time period :  2\n"
     ]
    },
    {
     "name": "stdout",
     "output_type": "stream",
     "text": [
      "the simple intrest is : 100000000.0\n"
     ]
    }
   ],
   "source": [
    "P = int(input(\"Enter the Principal :\"))\n",
    "R = int(input(\"Enter the Rate of intrest :\"))\n",
    "T = int(input(\"Enter the Time period : \"))\n",
    "\n",
    "simpleIntrest = (P * R * T) / 100\n",
    "print(\"the simple intrest is :\" , simpleIntrest)"
   ]
  },
  {
   "cell_type": "markdown",
   "metadata": {},
   "source": [
    "### 05) WAP to calculate area and perimeter of a circle."
   ]
  },
  {
   "cell_type": "code",
   "execution_count": 21,
   "metadata": {},
   "outputs": [
    {
     "name": "stdin",
     "output_type": "stream",
     "text": [
      "Enter the radius of the circle  2\n"
     ]
    },
    {
     "name": "stdout",
     "output_type": "stream",
     "text": [
      " the perimeter is : 12.566370614359172\n",
      "the area is : 12.566370614359172\n"
     ]
    }
   ],
   "source": [
    "import math\n",
    "\n",
    "rad = float(input(\"Enter the radius of the circle \"))\n",
    "\n",
    "print(f' the perimeter is : {math.pi * 2 * rad}')\n",
    "\n",
    "print(f'the area is : {math.pi * pow(rad, 2)}')"
   ]
  },
  {
   "cell_type": "markdown",
   "metadata": {},
   "source": [
    "### 06) WAP to calculate area of a triangle."
   ]
  },
  {
   "cell_type": "code",
   "execution_count": 23,
   "metadata": {},
   "outputs": [
    {
     "name": "stdin",
     "output_type": "stream",
     "text": [
      "Enter the base of triangle : 3\n",
      "Enter the height of the triangle : 4\n"
     ]
    },
    {
     "name": "stdout",
     "output_type": "stream",
     "text": [
      " The are of the  Triangle is : 6.0\n"
     ]
    }
   ],
   "source": [
    "base = int(input(\"Enter the base of triangle :\"))\n",
    "height = int(input(\"Enter the height of the triangle :\"))\n",
    "\n",
    "print(f' The are of the  Triangle is : { (1/2) * (base * height) }')"
   ]
  },
  {
   "cell_type": "markdown",
   "metadata": {},
   "source": [
    "### 07) WAP to compute quotient and remainder."
   ]
  },
  {
   "cell_type": "code",
   "execution_count": 27,
   "metadata": {},
   "outputs": [
    {
     "name": "stdin",
     "output_type": "stream",
     "text": [
      " Enter the first number : 5\n",
      " Enter the second number : 10\n"
     ]
    },
    {
     "name": "stdout",
     "output_type": "stream",
     "text": [
      " the quotient is : 0.5\n",
      " the remainder is : 5\n"
     ]
    }
   ],
   "source": [
    "num1 = int(input(\" Enter the first number :\"))\n",
    "num2 = int(input(\" Enter the second number :\"))\n",
    "\n",
    "print(f' the quotient is : { num1 / num2}')\n",
    "print(f' the remainder is : { num1 % num2}')"
   ]
  },
  {
   "cell_type": "markdown",
   "metadata": {},
   "source": [
    "### 08) WAP to convert degree into Fahrenheit and vice versa."
   ]
  },
  {
   "cell_type": "code",
   "execution_count": 33,
   "metadata": {},
   "outputs": [
    {
     "name": "stdin",
     "output_type": "stream",
     "text": [
      "write what you want to convert F for fahrenheit to celsius and vice versa sdfasdfa\n",
      " Enter the temperature in celsius 12\n"
     ]
    },
    {
     "name": "stdout",
     "output_type": "stream",
     "text": [
      " the temperature in fahrenheit is : 50.0\n"
     ]
    }
   ],
   "source": [
    "info = input(\"write what you want to convert F for fahrenheit to celsius and vice versa\")\n",
    "\n",
    "if(info == \"F\"):\n",
    "    fahrenheit = float(input(\" Enter the temperature in fahrenheit\"))\n",
    "    print(f' the temperature in celsius is : { (fahrenheit - 32) * (5 / 9) }')\n",
    "\n",
    "else:\n",
    "    celsius = float(input(\" Enter the temperature in celsius\"))\n",
    "    print(f' the temperature in fahrenheit is : {  (9 / 5) * fahrenheit + 32  }')\n",
    "\n"
   ]
  },
  {
   "cell_type": "markdown",
   "metadata": {},
   "source": [
    "### 09) WAP to find the distance between two points in 2-D space."
   ]
  },
  {
   "cell_type": "code",
   "execution_count": 35,
   "metadata": {},
   "outputs": [
    {
     "name": "stdin",
     "output_type": "stream",
     "text": [
      "Enter the x1 cordinate : 10\n",
      "Enter the x2 cordinate : 10\n",
      "Enter the y1 cordinate : 10\n",
      "Enter the y2 cordinate : 10\n"
     ]
    },
    {
     "name": "stdout",
     "output_type": "stream",
     "text": [
      " the distance between two points in 2 - D space is : 0.0\n"
     ]
    }
   ],
   "source": [
    "x1 = int(input(\"Enter the x1 cordinate :\"))\n",
    "x2 = int(input(\"Enter the x2 cordinate :\"))\n",
    "y1 = int(input(\"Enter the y1 cordinate :\"))\n",
    "y2 = int(input(\"Enter the y2 cordinate :\"))\n",
    "\n",
    "print(f' the distance between two points in 2 - D space is : { (x2 - x1) ** 2 + (y2 - y1) ** 0.5 }')"
   ]
  },
  {
   "cell_type": "markdown",
   "metadata": {},
   "source": [
    "### 10) WAP to print sum of n natural numbers."
   ]
  },
  {
   "cell_type": "code",
   "execution_count": 39,
   "metadata": {},
   "outputs": [
    {
     "name": "stdin",
     "output_type": "stream",
     "text": [
      " Enter the number : 11\n"
     ]
    },
    {
     "name": "stdout",
     "output_type": "stream",
     "text": [
      " the sum of numbers is 66.0\n"
     ]
    }
   ],
   "source": [
    "sumOfN = int(input(\" Enter the number :\"))\n",
    "\n",
    "print(f' the sum of numbers is { (sumOfN * (sumOfN/2) ) + (sumOfN/2)}')"
   ]
  },
  {
   "cell_type": "markdown",
   "metadata": {},
   "source": [
    "### 11) WAP to print sum of square of n natural numbers."
   ]
  },
  {
   "cell_type": "code",
   "execution_count": 5,
   "metadata": {},
   "outputs": [
    {
     "name": "stdin",
     "output_type": "stream",
     "text": [
      "Enter the value of n:  2\n"
     ]
    },
    {
     "name": "stdout",
     "output_type": "stream",
     "text": [
      "the sum of square of first 2 number is : 5\n"
     ]
    }
   ],
   "source": [
    "n = int(input(\"Enter the value of n: \"))\n",
    "\n",
    "res = (n * (n + 1) * (2 * n + 1)) // 6\n",
    "\n",
    "print(f'the sum of square of first {n} number is : {res}')\n"
   ]
  },
  {
   "cell_type": "markdown",
   "metadata": {},
   "source": [
    "### 12) WAP to concate the first and last name of the student."
   ]
  },
  {
   "cell_type": "code",
   "execution_count": 9,
   "metadata": {},
   "outputs": [
    {
     "name": "stdin",
     "output_type": "stream",
     "text": [
      "Enter your first name : viraj\n",
      "Enter your last name : odedra\n"
     ]
    },
    {
     "name": "stdout",
     "output_type": "stream",
     "text": [
      "Your name is viraj  odedra\n"
     ]
    }
   ],
   "source": [
    "first = input(\"Enter your first name :\")\n",
    "last = input(\"Enter your last name :\")\n",
    "name = first + \" \"+last\n",
    "\n",
    "print(f\"Your name is {name}\")"
   ]
  },
  {
   "cell_type": "markdown",
   "metadata": {},
   "source": [
    "### 13) WAP to swap two numbers."
   ]
  },
  {
   "cell_type": "code",
   "execution_count": 11,
   "metadata": {},
   "outputs": [
    {
     "name": "stdin",
     "output_type": "stream",
     "text": [
      "Enter the first number : 4\n",
      "Enter the first number : 40\n"
     ]
    },
    {
     "name": "stdout",
     "output_type": "stream",
     "text": [
      " before swap the value of a1 and a2 are 4, 40\n",
      " after swapping the value of a1 and a2 are 40, 4\n"
     ]
    }
   ],
   "source": [
    "a1 = int(input(\"Enter the first number :\"))\n",
    "a2 = int(input(\"Enter the first number :\"))\n",
    "print(f' before swap the value of a1 and a2 are {a1}, {a2}')\n",
    "a1,a2 = a2,a1\n",
    "print(f' after swapping the value of a1 and a2 are {a1}, {a2}')"
   ]
  },
  {
   "cell_type": "markdown",
   "metadata": {},
   "source": [
    "### 14) WAP to get the distance from user into kilometer, and convert it into meter, feet, inches and centimeter."
   ]
  },
  {
   "cell_type": "code",
   "execution_count": 15,
   "metadata": {},
   "outputs": [
    {
     "name": "stdin",
     "output_type": "stream",
     "text": [
      "Enter the distance in Kilometer 1\n"
     ]
    },
    {
     "name": "stdout",
     "output_type": "stream",
     "text": [
      "Distance in meters: 1000\n",
      "Distance in feet: 3280.84\n",
      "Distance in inches: 39370.08\n",
      "Distance in centimeters: 100000\n"
     ]
    }
   ],
   "source": [
    "dis = int(input('Enter the distance in Kilometer'))\n",
    "\n",
    "meter = dis * 1000\n",
    "feet = dis * 3280.84\n",
    "inches = dis * 39370.08\n",
    "centimeter = dis * 100000\n",
    "\n",
    "print(f\"Distance in meters: {meter}\" )\n",
    "print(f\"Distance in feet: {feet}\" )\n",
    "print(f\"Distance in inches: {inches}\" )\n",
    "print(f\"Distance in centimeters: {centimeter}\" )\n"
   ]
  },
  {
   "cell_type": "markdown",
   "metadata": {},
   "source": [
    "### 15) WAP to get day, month and year from the user and print the date in the given format: 23-11-2024."
   ]
  },
  {
   "cell_type": "code",
   "execution_count": 31,
   "metadata": {},
   "outputs": [
    {
     "name": "stdin",
     "output_type": "stream",
     "text": [
      "Enter the day:  1\n",
      "Enter the month:  12\n",
      "Enter the year:  2024\n"
     ]
    },
    {
     "name": "stdout",
     "output_type": "stream",
     "text": [
      "Today's Date is 1-12-2024. \n"
     ]
    }
   ],
   "source": [
    "day = input(\"Enter the day: \")\n",
    "month = input(\"Enter the month: \")\n",
    "year = input(\"Enter the year: \")\n",
    "\n",
    "# print(\"Today's date is:\" + day, month, year, sep=\"-\")\n",
    "print(f\"Today's Date is {day}-{month}-{year}. \")"
   ]
  },
  {
   "cell_type": "code",
   "execution_count": null,
   "metadata": {},
   "outputs": [],
   "source": []
  }
 ],
 "metadata": {
  "kernelspec": {
   "display_name": "Python 3 (ipykernel)",
   "language": "python",
   "name": "python3"
  },
  "language_info": {
   "codemirror_mode": {
    "name": "ipython",
    "version": 3
   },
   "file_extension": ".py",
   "mimetype": "text/x-python",
   "name": "python",
   "nbconvert_exporter": "python",
   "pygments_lexer": "ipython3",
   "version": "3.12.7"
  },
  "vscode": {
   "interpreter": {
    "hash": "31f2aee4e71d21fbe5cf8b01ff0e069b9275f58929596ceb00d14d90e3e16cd6"
   }
  }
 },
 "nbformat": 4,
 "nbformat_minor": 4
}
