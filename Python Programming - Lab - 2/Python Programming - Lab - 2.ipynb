{
 "cells": [
  {
   "cell_type": "markdown",
   "metadata": {},
   "source": [
    "\n",
    "<a href='https://www.darshan.ac.in/'> <img src='https://www.darshan.ac.in/Content/media/DU_Logo.svg' width=\"250\" height=\"300\"/></a>\n",
    "<pre>\n",
    "<center><b><h1>Python Programming - 2301CS404</b></center>\n",
    "<center><b><h1>Lab - 2</b></center>    \n",
    "<pre>"
   ]
  },
  {
   "cell_type": "markdown",
   "metadata": {},
   "source": [
    "# if..else.."
   ]
  },
  {
   "cell_type": "markdown",
   "metadata": {},
   "source": [
    "### 01) WAP to check whether the given number is positive or negative."
   ]
  },
  {
   "cell_type": "code",
   "execution_count": 5,
   "metadata": {},
   "outputs": [
    {
     "name": "stdin",
     "output_type": "stream",
     "text": [
      "Enter the number :  -4\n"
     ]
    },
    {
     "name": "stdout",
     "output_type": "stream",
     "text": [
      "The number you entered is Negative !\n"
     ]
    }
   ],
   "source": [
    "a = int(input(\"Enter the number : \"))\n",
    "\n",
    "if( a > 0) :\n",
    "    print(\"The number you entered is Positive !\")\n",
    "else :\n",
    "    print(\"The number you entered is Negative !\")\n"
   ]
  },
  {
   "cell_type": "markdown",
   "metadata": {},
   "source": [
    "### 02) WAP to check whether the given number is odd or even."
   ]
  },
  {
   "cell_type": "code",
   "execution_count": 7,
   "metadata": {},
   "outputs": [
    {
     "name": "stdin",
     "output_type": "stream",
     "text": [
      "Enter the number :  4\n"
     ]
    },
    {
     "name": "stdout",
     "output_type": "stream",
     "text": [
      "The number you entered is EVEN !\n"
     ]
    }
   ],
   "source": [
    "a = int(input(\"Enter the number : \"))\n",
    "\n",
    "if( a % 2 == 0) :\n",
    "    print(\"The number you entered is EVEN !\")\n",
    "else :\n",
    "    print(\"The number you entered is ODD !\")"
   ]
  },
  {
   "cell_type": "markdown",
   "metadata": {},
   "source": [
    "### 03) WAP to find out largest number from given two numbers using simple if and ternary operator."
   ]
  },
  {
   "cell_type": "code",
   "execution_count": 20,
   "metadata": {},
   "outputs": [
    {
     "name": "stdin",
     "output_type": "stream",
     "text": [
      "Enter the number :  4\n",
      "Enter the number :  5\n"
     ]
    },
    {
     "name": "stdout",
     "output_type": "stream",
     "text": [
      " 5 is largest number !\n",
      "The largest number is 5\n"
     ]
    }
   ],
   "source": [
    "a = int(input(\"Enter the number : \"))\n",
    "b = int(input(\"Enter the number : \"))\n",
    "\n",
    "if( a > b) : \n",
    "    print(f' {a} is largest number !')\n",
    "else :\n",
    "    print(f' {b} is largest number !')\n",
    "\n",
    "c = a if(a > b) else b\n",
    "print(f'The largest number is {c}')"
   ]
  },
  {
   "cell_type": "markdown",
   "metadata": {},
   "source": [
    "<h3> 04) WAP to find out largest number from given three numbers.</h3>"
   ]
  },
  {
   "cell_type": "code",
   "execution_count": 24,
   "metadata": {},
   "outputs": [
    {
     "name": "stdin",
     "output_type": "stream",
     "text": [
      "Enter the number :  1\n",
      "Enter the number :  2\n",
      "Enter the number :  3\n"
     ]
    },
    {
     "name": "stdout",
     "output_type": "stream",
     "text": [
      "The largest number is : 3\n"
     ]
    }
   ],
   "source": [
    "a = int(input(\"Enter the number : \"))\n",
    "b = int(input(\"Enter the number : \"))\n",
    "c = int(input(\"Enter the number : \"))\n",
    "\n",
    "if( a > b and a > c) :\n",
    "    print(f'The largest number is : {a} !')\n",
    "\n",
    "elif( b > c and b > a) :\n",
    "    print(f'The largest number is : {b} !')\n",
    "\n",
    "else :\n",
    "    print(f'The largest number is : {c} !')"
   ]
  },
  {
   "cell_type": "markdown",
   "metadata": {},
   "source": [
    "### 05) WAP to check whether the given year is leap year or not.\n",
    "[If a year can be divisible by 4 but not divisible by 100 then it is leap year but if it is divisible by 400 then it is leap year]"
   ]
  },
  {
   "cell_type": "code",
   "execution_count": 30,
   "metadata": {},
   "outputs": [
    {
     "name": "stdin",
     "output_type": "stream",
     "text": [
      "Enter the Year to check wheather it is Leap or not ! 2024\n"
     ]
    },
    {
     "name": "stdout",
     "output_type": "stream",
     "text": [
      "The entered year 2024 is Leap year\n"
     ]
    }
   ],
   "source": [
    "year = int(input(\"Enter the Year to check wheather it is Leap or not !\"))\n",
    "\n",
    "if( year % 4 == 0 and (not year % 100 == 0)) or (year % 400 == 0):\n",
    "    print(f\"The entered year {year} is Leap year\")\n",
    "\n",
    "else :\n",
    "    print(f\"The entered year {year} is Leap year\")"
   ]
  },
  {
   "cell_type": "markdown",
   "metadata": {},
   "source": [
    "### 06) WAP in python to display the name of the day according to the number given by the user."
   ]
  },
  {
   "cell_type": "code",
   "execution_count": 36,
   "metadata": {},
   "outputs": [
    {
     "name": "stdin",
     "output_type": "stream",
     "text": [
      "Enter the number less then 7 : 88\n"
     ]
    },
    {
     "name": "stdout",
     "output_type": "stream",
     "text": [
      "Enter the valid input \n"
     ]
    }
   ],
   "source": [
    "day = int(input(\"Enter the number less then 7 :\"))\n",
    "\n",
    "match day : \n",
    "    case 1:\n",
    "        print(\"Monday\")\n",
    "    case 2:\n",
    "        print(\"Tuesday\")\n",
    "    case 3:\n",
    "        print(\"Wednesday\")\n",
    "    case 4:\n",
    "        print(\"Thrusday\")\n",
    "    case 5:\n",
    "        print(\"Friday\")\n",
    "    case 6:\n",
    "        print(\"Saturday\")\n",
    "    case 7:\n",
    "        print(\"Sunday\")\n",
    "    case _:\n",
    "        print(\"Enter the valid input \")\n",
    "    "
   ]
  },
  {
   "cell_type": "markdown",
   "metadata": {},
   "source": [
    "### 07) WAP to implement simple calculator which performs (add,sub,mul,div) of two no. based on user input."
   ]
  },
  {
   "cell_type": "code",
   "execution_count": 44,
   "metadata": {},
   "outputs": [
    {
     "name": "stdin",
     "output_type": "stream",
     "text": [
      "Enter the operation !! /\n",
      "Enter the first number : 4.2\n",
      "Enter the first number : 2.3\n"
     ]
    },
    {
     "name": "stdout",
     "output_type": "stream",
     "text": [
      "4.2 / 2.3 = 1.8260869565217392\n"
     ]
    }
   ],
   "source": [
    "op = input(\"Enter the operation !!\")\n",
    "num1 = float(input(\"Enter the first number :\"))\n",
    "num2 = float(input(\"Enter the first number :\"))\n",
    "\n",
    "match op :\n",
    "    case '+':\n",
    "        print(f'{num1} + {num2} = {num1 + num2}')\n",
    "    case '-':\n",
    "        print(f'{num1} - {num2} = {num1 - num2}')\n",
    "    case '*':\n",
    "        print(f'{num1} * {num2} = {num1 * num2}')\n",
    "    case '/':\n",
    "        print(f'{num1} / {num2} = {num1 / num2}')"
   ]
  },
  {
   "cell_type": "markdown",
   "metadata": {},
   "source": [
    "### 08) WAP to read marks of five subjects. Calculate percentage and print class accordingly. \n",
    "Fail below 35 </br>\n",
    "Pass Class between 35 to 45 </br>\n",
    "Second Class</br>\n",
    "between 45 to 60</br>\n",
    "First Class between 60 to 70</br> \n",
    "Distinction if more than 70"
   ]
  },
  {
   "cell_type": "code",
   "execution_count": 53,
   "metadata": {},
   "outputs": [
    {
     "name": "stdin",
     "output_type": "stream",
     "text": [
      "Enter the marks of subject 1 : 50\n",
      "Enter the marks of subject 2 : 50\n",
      "Enter the marks of subject 3 : 50\n",
      "Enter the marks of subject 4 : 100\n",
      "Enter the marks of subject 5 : 1\n"
     ]
    },
    {
     "name": "stdout",
     "output_type": "stream",
     "text": [
      "You get 50.2 , You passed Second class!\n"
     ]
    }
   ],
   "source": [
    "sub1 = int(input(\"Enter the marks of subject 1 :\"))\n",
    "sub2 = int(input(\"Enter the marks of subject 2 :\"))\n",
    "sub3 = int(input(\"Enter the marks of subject 3 :\"))\n",
    "sub4 = int(input(\"Enter the marks of subject 4 :\"))\n",
    "sub5 = int(input(\"Enter the marks of subject 5 :\"))\n",
    "\n",
    "total = ((sub1 + sub2 + sub3 + sub4 + sub5)/500) * 100\n",
    "\n",
    "if(total < 35) :\n",
    "    print(f'You get {total} , You Failed!')\n",
    "elif(total > 35 and total < 45) :\n",
    "    print(f'You get {total} , You Pass!')\n",
    "elif(total > 45 and total < 60) :\n",
    "    print(f'You get {total} , You passed Second class!')\n",
    "elif(total > 60 and total < 70) :\n",
    "    print(f'You get {total} , You passed First class!')\n",
    "elif(total > 70) :\n",
    "    print(f'You get {total} , You get Distinction!')"
   ]
  },
  {
   "cell_type": "markdown",
   "metadata": {},
   "source": [
    "### 09) Three sides of a triangle are entered through the keyboard, WAP to check whether the triangle is isosceles, equilateral, scalene or right-angled triangle."
   ]
  },
  {
   "cell_type": "code",
   "execution_count": 69,
   "metadata": {},
   "outputs": [
    {
     "name": "stdin",
     "output_type": "stream",
     "text": [
      "Enter the First side of Triangle ! 3\n",
      "Enter the Second side of Triangle ! 4\n",
      "Enter the Third side of Triangle ! 5\n"
     ]
    },
    {
     "name": "stdout",
     "output_type": "stream",
     "text": [
      "Triangle is Right - angled Triangle\n"
     ]
    }
   ],
   "source": [
    "side1 = int(input(\"Enter the First side of Triangle !\"))\n",
    "side2 = int(input(\"Enter the Second side of Triangle !\"))\n",
    "side3 = int(input(\"Enter the Third side of Triangle !\"))\n",
    "    \n",
    "\n",
    "if(side1 == side2 == side3):\n",
    "    print(\"Triangle is Equilator\")\n",
    "elif(side1 == side2 or side2 == side3 or side3 == side1):\n",
    "    print(\"Triangle is isosceles\")\n",
    "elif(side1 != side2 and side1 != side3 and side2 != side3):\n",
    "    if(pow(side1, 2) + pow(side2, 2) == pow(side3,2) or pow(side3, 2) + pow(side2, 2) == pow(side1,2) or pow(side1, 2) + pow(side3, 2) == pow(side2,2)) :\n",
    "       print(\"Triangle is Right - angled Triangle\")\n",
    "else:\n",
    "    print(\"The triangle is scalene\")"
   ]
  },
  {
   "cell_type": "code",
   "execution_count": null,
   "metadata": {},
   "outputs": [],
   "source": []
  },
  {
   "cell_type": "markdown",
   "metadata": {},
   "source": [
    "### 10) WAP to find the second largest number among three user input numbers."
   ]
  },
  {
   "cell_type": "code",
   "execution_count": 73,
   "metadata": {},
   "outputs": [
    {
     "name": "stdin",
     "output_type": "stream",
     "text": [
      "Enter the first number : 555\n",
      "Enter the first number : 444\n",
      "Enter the first number : 333\n"
     ]
    },
    {
     "name": "stdout",
     "output_type": "stream",
     "text": [
      "The second largest number is : 444.0\n"
     ]
    }
   ],
   "source": [
    "num1 = float(input(\"Enter the first number :\"))\n",
    "num2 = float(input(\"Enter the first number :\"))\n",
    "num3 = float(input(\"Enter the first number :\"))\n",
    "\n",
    "if((num1 > num2 and num1 < num3) or (num1 < num2 and num1 > num3)):\n",
    "    print(f'The second largest number is : {num1}')\n",
    "elif((num2 > num1 and num2 < num3) or (num2 < num1 and num2 > num3)):\n",
    "    print(f'The second largest number is : {num2}')\n",
    "else:\n",
    "    print(f'The second largest number is : {num3}')\n",
    "    \n"
   ]
  },
  {
   "cell_type": "markdown",
   "metadata": {},
   "source": [
    "### 11) WAP to calculate electricity bill based on following criteria. Which takes the unit from the user.\n",
    "a. First 1 to 50 units – Rs. 2.60/unit</br>\n",
    "b. Next 50 to 100 units – Rs. 3.25/unit</br>\n",
    "c. Next 100 to 200 units – Rs. 5.26/unit</br>\n",
    "d. above 200 units – Rs. 8.45/unit"
   ]
  },
  {
   "cell_type": "code",
   "execution_count": 75,
   "metadata": {},
   "outputs": [
    {
     "name": "stdin",
     "output_type": "stream",
     "text": [
      "Enter your monthly units : 12\n"
     ]
    },
    {
     "name": "stdout",
     "output_type": "stream",
     "text": [
      "Your monthly BILL is 31.200000000000003\n"
     ]
    }
   ],
   "source": [
    "units = float(input(\"Enter your monthly units :\"))\n",
    "bill = 0\n",
    "\n",
    "if(units > 0 and units < 50):\n",
    "    bill = 2.60 * units\n",
    "elif(units > 50 and units < 100):\n",
    "    bill = 3.25 * units\n",
    "elif(units > 100 and units < 200):\n",
    "    bill = 5.26 * units\n",
    "elif(units > 200):\n",
    "    bill = 8.45 * units\n",
    "\n",
    "print(f\"Your monthly BILL is {bill}\")"
   ]
  },
  {
   "cell_type": "code",
   "execution_count": null,
   "metadata": {},
   "outputs": [],
   "source": []
  }
 ],
 "metadata": {
  "kernelspec": {
   "display_name": "Python 3 (ipykernel)",
   "language": "python",
   "name": "python3"
  },
  "language_info": {
   "codemirror_mode": {
    "name": "ipython",
    "version": 3
   },
   "file_extension": ".py",
   "mimetype": "text/x-python",
   "name": "python",
   "nbconvert_exporter": "python",
   "pygments_lexer": "ipython3",
   "version": "3.12.7"
  }
 },
 "nbformat": 4,
 "nbformat_minor": 4
}
